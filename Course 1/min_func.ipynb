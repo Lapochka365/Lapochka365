{
 "cells": [
  {
   "cell_type": "markdown",
   "id": "c4a9673a-0327-42de-a512-c1c01489a75e",
   "metadata": {
    "tags": []
   },
   "source": [
    "# Оптимизация и поиск минимума функций"
   ]
  },
  {
   "cell_type": "code",
   "execution_count": 1,
   "id": "48a94221-17d5-4149-bbdc-e15debbb1909",
   "metadata": {},
   "outputs": [],
   "source": [
    "import numpy as np\n",
    "from scipy import linalg\n",
    "import scipy.optimize as opt\n",
    "import matplotlib.pyplot as plt"
   ]
  },
  {
   "cell_type": "code",
   "execution_count": 2,
   "id": "d6d84e48-648d-4f88-9dac-2644366d3934",
   "metadata": {},
   "outputs": [
    {
     "data": {
      "image/png": "[encoded data removed]",
      "text/plain": [
       "<Figure size 432x288 with 1 Axes>"
      ]
     },
     "metadata": {
      "needs_background": "light"
     },
     "output_type": "display_data"
    }
   ],
   "source": [
    "def f(x):\n",
    "    return np.sin(x / 5) * np.exp(x / 10) + 5 * np.exp(-x / 2)\n",
    "def h(x):\n",
    "    return int(f(x))\n",
    "x = np.linspace(1, 30, 100)\n",
    "y_1 = []\n",
    "for i in x:\n",
    "    y_1.append(f(i))\n",
    "plt.plot(x, y_1)\n",
    "plt.grid()\n",
    "plt.show()"
   ]
  },
  {
   "cell_type": "code",
   "execution_count": 3,
   "id": "93597608-9150-4f85-9c15-1a9d89e1edbd",
   "metadata": {},
   "outputs": [
    {
     "data": {
      "text/plain": [
       "'1.75'"
      ]
     },
     "execution_count": 3,
     "metadata": {},
     "output_type": "execute_result"
    }
   ],
   "source": [
    "min1 = opt.minimize(f, 2, method='BFGS')\n",
    "sub1 = str(round(min1.fun, 2))\n",
    "sub1"
   ]
  },
  {
   "cell_type": "code",
   "execution_count": 4,
   "id": "e044c028-820d-4126-b5a8-f20da3fbcf4f",
   "metadata": {},
   "outputs": [
    {
     "data": {
      "text/plain": [
       "'-11.9'"
      ]
     },
     "execution_count": 4,
     "metadata": {},
     "output_type": "execute_result"
    }
   ],
   "source": [
    "min2 = opt.minimize(f, 30, method='BFGS')\n",
    "sub2 = str(round(min2.fun, 2))\n",
    "sub2"
   ]
  },
  {
   "cell_type": "code",
   "execution_count": 5,
   "id": "0a228c62-ca04-440b-9cae-4c94ede53415",
   "metadata": {},
   "outputs": [],
   "source": [
    "# with open('submission-1.txt', 'w') as f:\n",
    "#     f.write(sub1 + ' ' + sub2 + '\\n')"
   ]
  },
  {
   "cell_type": "code",
   "execution_count": 6,
   "id": "8326b56a-93e4-4df2-9011-9d612b963019",
   "metadata": {},
   "outputs": [
    {
     "data": {
      "text/plain": [
       "'-11.9'"
      ]
     },
     "execution_count": 6,
     "metadata": {},
     "output_type": "execute_result"
    }
   ],
   "source": [
    "bounds = [(1, 30)]\n",
    "new_min = opt.differential_evolution(f, bounds)\n",
    "new_min = str(round(new_min.fun.item(0), 2))\n",
    "new_min\n",
    "# with open('submission-2.txt', 'w') as f:\n",
    "#     f.write(new_min + '\\n')"
   ]
  },
  {
   "cell_type": "code",
   "execution_count": 7,
   "id": "8c58d1ff-5b56-42bd-b902-b4c97800c729",
   "metadata": {},
   "outputs": [
    {
     "data": {
      "image/png": "[encoded data removed]",
      "text/plain": [
       "<Figure size 432x288 with 1 Axes>"
      ]
     },
     "metadata": {
      "needs_background": "light"
     },
     "output_type": "display_data"
    }
   ],
   "source": [
    "y = []\n",
    "for i in x:\n",
    "    y.append(h(i))\n",
    "plt.plot(x, y)\n",
    "plt.grid()\n",
    "plt.show()"
   ]
  },
  {
   "cell_type": "code",
   "execution_count": 8,
   "id": "c774e10a-e372-4b2e-80c9-db00e8ec0114",
   "metadata": {},
   "outputs": [
    {
     "name": "stdout",
     "output_type": "stream",
     "text": [
      "-5\n"
     ]
    }
   ],
   "source": [
    "min_1 = opt.minimize(h, 30, method='BFGS')\n",
    "min_1 = str(min_1.fun)\n",
    "print(min_1)"
   ]
  },
  {
   "cell_type": "code",
   "execution_count": 9,
   "id": "37e300f8-8d6b-4ddf-8eb8-3766bb87ce1f",
   "metadata": {},
   "outputs": [
    {
     "name": "stdout",
     "output_type": "stream",
     "text": [
      "-11.0\n"
     ]
    }
   ],
   "source": [
    "bounds = [(1, 30)]\n",
    "min_2 = opt.differential_evolution(h, bounds)\n",
    "min_2 = str(min_2.fun)\n",
    "print(min_2)"
   ]
  },
  {
   "cell_type": "code",
   "execution_count": 10,
   "id": "60fbca86-ee91-4a96-bdb2-981e3e282fca",
   "metadata": {},
   "outputs": [],
   "source": [
    "with open('submission-3.txt', 'w') as f:\n",
    "    f.write(min_1 + ' ' + min_2 + '\\n')"
   ]
  }
 ],
 "metadata": {
  "kernelspec": {
   "display_name": "Python 3 (ipykernel)",
   "language": "python",
   "name": "python3"
  },
  "language_info": {
   "codemirror_mode": {
    "name": "ipython",
    "version": 3
   },
   "file_extension": ".py",
   "mimetype": "text/x-python",
   "name": "python",
   "nbconvert_exporter": "python",
   "pygments_lexer": "ipython3",
   "version": "3.9.6"
  }
 },
 "nbformat": 4,
 "nbformat_minor": 5
}
