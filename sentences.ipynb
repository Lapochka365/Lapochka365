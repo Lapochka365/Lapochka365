{
 "cells": [
  {
   "cell_type": "markdown",
   "id": "5a74e0cb-bc6c-485b-828d-d01f4f7c99c5",
   "metadata": {},
   "source": [
    "# Поиск соответствия среди предложений"
   ]
  },
  {
   "cell_type": "code",
   "execution_count": 90,
   "id": "23ed8bcc-2a5c-4a14-968f-1a3dc1d45d51",
   "metadata": {},
   "outputs": [],
   "source": [
    "import re\n",
    "file = open('cat_sentences.txt', 'r')\n",
    "sentences = []\n",
    "for line in file:\n",
    "    sentences.append(line.strip().lower())"
   ]
  },
  {
   "cell_type": "code",
   "execution_count": 91,
   "id": "ea431a2c-3b30-4191-85b0-ba46e123d3c1",
   "metadata": {},
   "outputs": [],
   "source": [
    "tokenized = []\n",
    "for line in sentences:\n",
    "    tokenized.append(re.split('[^a-z]', line))"
   ]
  },
  {
   "cell_type": "code",
   "execution_count": 92,
   "id": "a3cac573-ecb3-4d2e-ba07-2e9d620d5119",
   "metadata": {},
   "outputs": [],
   "source": [
    "for line in tokenized:\n",
    "    if '' in line:\n",
    "        tokenized[tokenized.index(line)] = list(filter(None, line))"
   ]
  },
  {
   "cell_type": "code",
   "execution_count": 93,
   "id": "f91b4317-c256-436a-bdf4-7dd405da67df",
   "metadata": {
    "tags": []
   },
   "outputs": [],
   "source": [
    "tokens = {}\n",
    "k = 0\n",
    "for words in tokenized:\n",
    "    for word in words:\n",
    "        if word in tokens:\n",
    "            continue\n",
    "        else:\n",
    "            tokens[word] = k\n",
    "            k += 1"
   ]
  },
  {
   "cell_type": "code",
   "execution_count": 94,
   "id": "ae31f397-3488-49ca-b1e5-9c19b7193704",
   "metadata": {},
   "outputs": [],
   "source": [
    "import numpy as np\n",
    "matrix = []\n",
    "for i in range(len(sentences)):\n",
    "    matrix.append([])\n",
    "k = 0\n",
    "for line in tokenized:\n",
    "    for keys in tokens.keys():\n",
    "        a = line.count(keys)\n",
    "        matrix[k].append(a)\n",
    "    k += 1\n",
    "matrix = np.array(matrix)"
   ]
  },
  {
   "cell_type": "code",
   "execution_count": 95,
   "id": "bdd6b360-0fce-4b61-83d1-9b0eda23f1aa",
   "metadata": {},
   "outputs": [],
   "source": [
    "from scipy import spatial\n",
    "result = {}\n",
    "for i in range(22):\n",
    "    cos_range = spatial.distance.cosine(matrix[0], matrix[i])\n",
    "    result[i] = cos_range\n",
    "minimums = dict(sorted(result.items(), key=lambda item: item[1]))\n",
    "minimums_sorted = []\n",
    "for keys in minimums.keys():\n",
    "    minimums_sorted.append(keys)\n",
    "min1, min2 = minimums_sorted[1], minimums_sorted[2]\n",
    "with open('submission-1.txt', 'w') as f:\n",
    "    f.write(' '.join(map(str, [min1, min2])))"
   ]
  }
 ],
 "metadata": {
  "kernelspec": {
   "display_name": "Python 3 (ipykernel)",
   "language": "python",
   "name": "python3"
  },
  "language_info": {
   "codemirror_mode": {
    "name": "ipython",
    "version": 3
   },
   "file_extension": ".py",
   "mimetype": "text/x-python",
   "name": "python",
   "nbconvert_exporter": "python",
   "pygments_lexer": "ipython3",
   "version": "3.9.6"
  }
 },
 "nbformat": 4,
 "nbformat_minor": 5
}
